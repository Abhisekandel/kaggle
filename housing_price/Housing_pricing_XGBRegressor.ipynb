{
 "cells": [
  {
   "cell_type": "code",
   "execution_count": 1,
   "id": "0a280a84",
   "metadata": {
    "_cell_guid": "b1076dfc-b9ad-4769-8c92-a6c4dae69d19",
    "_uuid": "8f2839f25d086af736a60e9eeb907d3b93b6e0e5",
    "execution": {
     "iopub.execute_input": "2024-01-14T04:41:40.380951Z",
     "iopub.status.busy": "2024-01-14T04:41:40.380613Z",
     "iopub.status.idle": "2024-01-14T04:41:40.655640Z",
     "shell.execute_reply": "2024-01-14T04:41:40.653917Z"
    },
    "papermill": {
     "duration": 0.288671,
     "end_time": "2024-01-14T04:41:40.657478",
     "exception": false,
     "start_time": "2024-01-14T04:41:40.368807",
     "status": "completed"
    },
    "tags": []
   },
   "outputs": [
    {
     "name": "stdout",
     "output_type": "stream",
     "text": [
      "/kaggle/input/prediction/Submission.csv\n",
      "/kaggle/input/house-prices-advanced-regression-techniques/sample_submission.csv\n",
      "/kaggle/input/house-prices-advanced-regression-techniques/data_description.txt\n",
      "/kaggle/input/house-prices-advanced-regression-techniques/train.csv\n",
      "/kaggle/input/house-prices-advanced-regression-techniques/test.csv\n"
     ]
    }
   ],
   "source": [
    "# This Python 3 environment comes with many helpful analytics libraries installed\n",
    "# It is defined by the kaggle/python Docker image: https://github.com/kaggle/docker-python\n",
    "# For example, here's several helpful packages to load\n",
    "\n",
    "import numpy as np # linear algebra\n",
    "import pandas as pd # data processing, CSV file I/O (e.g. pd.read_csv)\n",
    "\n",
    "# Input data files are available in the read-only \"../input/\" directory\n",
    "# For example, running this (by clicking run or pressing Shift+Enter) will list all files under the input directory\n",
    "\n",
    "import os\n",
    "for dirname, _, filenames in os.walk('/kaggle/input'):\n",
    "    for filename in filenames:\n",
    "        print(os.path.join(dirname, filename))\n",
    "\n",
    "# You can write up to 20GB to the current directory (/kaggle/working/) that gets preserved as output when you create a version using \"Save & Run All\" \n",
    "# You can also write temporary files to /kaggle/temp/, but they won't be saved outside of the current session"
   ]
  },
  {
   "cell_type": "code",
   "execution_count": 2,
   "id": "83928e26",
   "metadata": {
    "execution": {
     "iopub.execute_input": "2024-01-14T04:41:40.679374Z",
     "iopub.status.busy": "2024-01-14T04:41:40.679037Z",
     "iopub.status.idle": "2024-01-14T04:41:41.625451Z",
     "shell.execute_reply": "2024-01-14T04:41:41.624567Z"
    },
    "papermill": {
     "duration": 0.959802,
     "end_time": "2024-01-14T04:41:41.627690",
     "exception": false,
     "start_time": "2024-01-14T04:41:40.667888",
     "status": "completed"
    },
    "tags": []
   },
   "outputs": [],
   "source": [
    "import numpy as np\n",
    "import pandas as pd\n",
    "import matplotlib.pyplot as plt\n",
    "import seaborn as sns\n"
   ]
  },
  {
   "cell_type": "code",
   "execution_count": 3,
   "id": "4ea17a30",
   "metadata": {
    "execution": {
     "iopub.execute_input": "2024-01-14T04:41:41.649309Z",
     "iopub.status.busy": "2024-01-14T04:41:41.649040Z",
     "iopub.status.idle": "2024-01-14T04:41:41.715523Z",
     "shell.execute_reply": "2024-01-14T04:41:41.714517Z"
    },
    "papermill": {
     "duration": 0.07968,
     "end_time": "2024-01-14T04:41:41.717793",
     "exception": false,
     "start_time": "2024-01-14T04:41:41.638113",
     "status": "completed"
    },
    "tags": []
   },
   "outputs": [],
   "source": [
    "df=pd.read_csv('/kaggle/input/house-prices-advanced-regression-techniques/train.csv')\n",
    "dF = pd.read_csv('/kaggle/input/house-prices-advanced-regression-techniques/test.csv')"
   ]
  },
  {
   "cell_type": "code",
   "execution_count": 4,
   "id": "2498388e",
   "metadata": {
    "execution": {
     "iopub.execute_input": "2024-01-14T04:41:41.740090Z",
     "iopub.status.busy": "2024-01-14T04:41:41.739820Z",
     "iopub.status.idle": "2024-01-14T04:41:41.769473Z",
     "shell.execute_reply": "2024-01-14T04:41:41.768653Z"
    },
    "papermill": {
     "duration": 0.042981,
     "end_time": "2024-01-14T04:41:41.771239",
     "exception": false,
     "start_time": "2024-01-14T04:41:41.728258",
     "status": "completed"
    },
    "tags": []
   },
   "outputs": [
    {
     "data": {
      "text/html": [
       "<div>\n",
       "<style scoped>\n",
       "    .dataframe tbody tr th:only-of-type {\n",
       "        vertical-align: middle;\n",
       "    }\n",
       "\n",
       "    .dataframe tbody tr th {\n",
       "        vertical-align: top;\n",
       "    }\n",
       "\n",
       "    .dataframe thead th {\n",
       "        text-align: right;\n",
       "    }\n",
       "</style>\n",
       "<table border=\"1\" class=\"dataframe\">\n",
       "  <thead>\n",
       "    <tr style=\"text-align: right;\">\n",
       "      <th></th>\n",
       "      <th>Id</th>\n",
       "      <th>MSSubClass</th>\n",
       "      <th>MSZoning</th>\n",
       "      <th>LotFrontage</th>\n",
       "      <th>LotArea</th>\n",
       "      <th>Street</th>\n",
       "      <th>Alley</th>\n",
       "      <th>LotShape</th>\n",
       "      <th>LandContour</th>\n",
       "      <th>Utilities</th>\n",
       "      <th>...</th>\n",
       "      <th>PoolArea</th>\n",
       "      <th>PoolQC</th>\n",
       "      <th>Fence</th>\n",
       "      <th>MiscFeature</th>\n",
       "      <th>MiscVal</th>\n",
       "      <th>MoSold</th>\n",
       "      <th>YrSold</th>\n",
       "      <th>SaleType</th>\n",
       "      <th>SaleCondition</th>\n",
       "      <th>SalePrice</th>\n",
       "    </tr>\n",
       "  </thead>\n",
       "  <tbody>\n",
       "    <tr>\n",
       "      <th>0</th>\n",
       "      <td>1</td>\n",
       "      <td>60</td>\n",
       "      <td>RL</td>\n",
       "      <td>65.0</td>\n",
       "      <td>8450</td>\n",
       "      <td>Pave</td>\n",
       "      <td>NaN</td>\n",
       "      <td>Reg</td>\n",
       "      <td>Lvl</td>\n",
       "      <td>AllPub</td>\n",
       "      <td>...</td>\n",
       "      <td>0</td>\n",
       "      <td>NaN</td>\n",
       "      <td>NaN</td>\n",
       "      <td>NaN</td>\n",
       "      <td>0</td>\n",
       "      <td>2</td>\n",
       "      <td>2008</td>\n",
       "      <td>WD</td>\n",
       "      <td>Normal</td>\n",
       "      <td>208500</td>\n",
       "    </tr>\n",
       "    <tr>\n",
       "      <th>1</th>\n",
       "      <td>2</td>\n",
       "      <td>20</td>\n",
       "      <td>RL</td>\n",
       "      <td>80.0</td>\n",
       "      <td>9600</td>\n",
       "      <td>Pave</td>\n",
       "      <td>NaN</td>\n",
       "      <td>Reg</td>\n",
       "      <td>Lvl</td>\n",
       "      <td>AllPub</td>\n",
       "      <td>...</td>\n",
       "      <td>0</td>\n",
       "      <td>NaN</td>\n",
       "      <td>NaN</td>\n",
       "      <td>NaN</td>\n",
       "      <td>0</td>\n",
       "      <td>5</td>\n",
       "      <td>2007</td>\n",
       "      <td>WD</td>\n",
       "      <td>Normal</td>\n",
       "      <td>181500</td>\n",
       "    </tr>\n",
       "    <tr>\n",
       "      <th>2</th>\n",
       "      <td>3</td>\n",
       "      <td>60</td>\n",
       "      <td>RL</td>\n",
       "      <td>68.0</td>\n",
       "      <td>11250</td>\n",
       "      <td>Pave</td>\n",
       "      <td>NaN</td>\n",
       "      <td>IR1</td>\n",
       "      <td>Lvl</td>\n",
       "      <td>AllPub</td>\n",
       "      <td>...</td>\n",
       "      <td>0</td>\n",
       "      <td>NaN</td>\n",
       "      <td>NaN</td>\n",
       "      <td>NaN</td>\n",
       "      <td>0</td>\n",
       "      <td>9</td>\n",
       "      <td>2008</td>\n",
       "      <td>WD</td>\n",
       "      <td>Normal</td>\n",
       "      <td>223500</td>\n",
       "    </tr>\n",
       "    <tr>\n",
       "      <th>3</th>\n",
       "      <td>4</td>\n",
       "      <td>70</td>\n",
       "      <td>RL</td>\n",
       "      <td>60.0</td>\n",
       "      <td>9550</td>\n",
       "      <td>Pave</td>\n",
       "      <td>NaN</td>\n",
       "      <td>IR1</td>\n",
       "      <td>Lvl</td>\n",
       "      <td>AllPub</td>\n",
       "      <td>...</td>\n",
       "      <td>0</td>\n",
       "      <td>NaN</td>\n",
       "      <td>NaN</td>\n",
       "      <td>NaN</td>\n",
       "      <td>0</td>\n",
       "      <td>2</td>\n",
       "      <td>2006</td>\n",
       "      <td>WD</td>\n",
       "      <td>Abnorml</td>\n",
       "      <td>140000</td>\n",
       "    </tr>\n",
       "    <tr>\n",
       "      <th>4</th>\n",
       "      <td>5</td>\n",
       "      <td>60</td>\n",
       "      <td>RL</td>\n",
       "      <td>84.0</td>\n",
       "      <td>14260</td>\n",
       "      <td>Pave</td>\n",
       "      <td>NaN</td>\n",
       "      <td>IR1</td>\n",
       "      <td>Lvl</td>\n",
       "      <td>AllPub</td>\n",
       "      <td>...</td>\n",
       "      <td>0</td>\n",
       "      <td>NaN</td>\n",
       "      <td>NaN</td>\n",
       "      <td>NaN</td>\n",
       "      <td>0</td>\n",
       "      <td>12</td>\n",
       "      <td>2008</td>\n",
       "      <td>WD</td>\n",
       "      <td>Normal</td>\n",
       "      <td>250000</td>\n",
       "    </tr>\n",
       "  </tbody>\n",
       "</table>\n",
       "<p>5 rows × 81 columns</p>\n",
       "</div>"
      ],
      "text/plain": [
       "   Id  MSSubClass MSZoning  LotFrontage  LotArea Street Alley LotShape  \\\n",
       "0   1          60       RL         65.0     8450   Pave   NaN      Reg   \n",
       "1   2          20       RL         80.0     9600   Pave   NaN      Reg   \n",
       "2   3          60       RL         68.0    11250   Pave   NaN      IR1   \n",
       "3   4          70       RL         60.0     9550   Pave   NaN      IR1   \n",
       "4   5          60       RL         84.0    14260   Pave   NaN      IR1   \n",
       "\n",
       "  LandContour Utilities  ... PoolArea PoolQC Fence MiscFeature MiscVal MoSold  \\\n",
       "0         Lvl    AllPub  ...        0    NaN   NaN         NaN       0      2   \n",
       "1         Lvl    AllPub  ...        0    NaN   NaN         NaN       0      5   \n",
       "2         Lvl    AllPub  ...        0    NaN   NaN         NaN       0      9   \n",
       "3         Lvl    AllPub  ...        0    NaN   NaN         NaN       0      2   \n",
       "4         Lvl    AllPub  ...        0    NaN   NaN         NaN       0     12   \n",
       "\n",
       "  YrSold  SaleType  SaleCondition  SalePrice  \n",
       "0   2008        WD         Normal     208500  \n",
       "1   2007        WD         Normal     181500  \n",
       "2   2008        WD         Normal     223500  \n",
       "3   2006        WD        Abnorml     140000  \n",
       "4   2008        WD         Normal     250000  \n",
       "\n",
       "[5 rows x 81 columns]"
      ]
     },
     "execution_count": 4,
     "metadata": {},
     "output_type": "execute_result"
    }
   ],
   "source": [
    "df.head()"
   ]
  },
  {
   "cell_type": "code",
   "execution_count": 5,
   "id": "ce90c065",
   "metadata": {
    "execution": {
     "iopub.execute_input": "2024-01-14T04:41:41.793823Z",
     "iopub.status.busy": "2024-01-14T04:41:41.793282Z",
     "iopub.status.idle": "2024-01-14T04:41:41.883810Z",
     "shell.execute_reply": "2024-01-14T04:41:41.882987Z"
    },
    "papermill": {
     "duration": 0.103447,
     "end_time": "2024-01-14T04:41:41.885472",
     "exception": false,
     "start_time": "2024-01-14T04:41:41.782025",
     "status": "completed"
    },
    "tags": []
   },
   "outputs": [
    {
     "data": {
      "text/plain": [
       "(1459, 75)"
      ]
     },
     "execution_count": 5,
     "metadata": {},
     "output_type": "execute_result"
    }
   ],
   "source": [
    "dF['LotFrontage']=df['LotFrontage'].fillna(dF['LotFrontage'].mean())\n",
    "dF.drop(['Alley'],axis=1,inplace=True)\n",
    "dF['BsmtCond']=df['BsmtCond'].fillna(dF['BsmtCond'].mode()[0])\n",
    "dF['BsmtQual']=df['BsmtQual'].fillna(dF['BsmtQual'].mode()[0])\n",
    "dF['FireplaceQu']=df['FireplaceQu'].fillna(dF['FireplaceQu'].mode()[0])\n",
    "dF['GarageType']=df['GarageType'].fillna(dF['GarageType'].mode()[0])\n",
    "dF.drop(['GarageYrBlt'],axis=1,inplace=True)\n",
    "dF['GarageFinish']=df['GarageFinish'].fillna(dF['GarageFinish'].mode()[0])\n",
    "dF['GarageQual']=df['GarageQual'].fillna(dF['GarageQual'].mode()[0])\n",
    "dF['GarageCond']=df['GarageCond'].fillna(dF['GarageCond'].mode()[0])\n",
    "dF.drop(['PoolQC','Fence','MiscFeature'],axis=1,inplace=True)\n",
    "dF.shape\n"
   ]
  },
  {
   "cell_type": "code",
   "execution_count": 6,
   "id": "6e0e5862",
   "metadata": {
    "execution": {
     "iopub.execute_input": "2024-01-14T04:41:41.908130Z",
     "iopub.status.busy": "2024-01-14T04:41:41.907369Z",
     "iopub.status.idle": "2024-01-14T04:41:41.924577Z",
     "shell.execute_reply": "2024-01-14T04:41:41.924043Z"
    },
    "papermill": {
     "duration": 0.030004,
     "end_time": "2024-01-14T04:41:41.926057",
     "exception": false,
     "start_time": "2024-01-14T04:41:41.896053",
     "status": "completed"
    },
    "tags": []
   },
   "outputs": [
    {
     "data": {
      "text/plain": [
       "(1460, 76)"
      ]
     },
     "execution_count": 6,
     "metadata": {},
     "output_type": "execute_result"
    }
   ],
   "source": [
    "df['LotFrontage']=df['LotFrontage'].fillna(df['LotFrontage'].mean())\n",
    "df.drop(['Alley'],axis=1,inplace=True)\n",
    "df['BsmtCond']=df['BsmtCond'].fillna(df['BsmtCond'].mode()[0])\n",
    "df['BsmtQual']=df['BsmtQual'].fillna(df['BsmtQual'].mode()[0])\n",
    "df['FireplaceQu']=df['FireplaceQu'].fillna(df['FireplaceQu'].mode()[0])\n",
    "df['GarageType']=df['GarageType'].fillna(df['GarageType'].mode()[0])\n",
    "df.drop(['GarageYrBlt'],axis=1,inplace=True)\n",
    "df['GarageFinish']=df['GarageFinish'].fillna(df['GarageFinish'].mode()[0])\n",
    "df['GarageQual']=df['GarageQual'].fillna(df['GarageQual'].mode()[0])\n",
    "df['GarageCond']=df['GarageCond'].fillna(df['GarageCond'].mode()[0])\n",
    "df.drop(['PoolQC','Fence','MiscFeature'],axis=1,inplace=True)\n",
    "df.shape\n"
   ]
  },
  {
   "cell_type": "code",
   "execution_count": 7,
   "id": "8114f2d3",
   "metadata": {
    "execution": {
     "iopub.execute_input": "2024-01-14T04:41:41.948901Z",
     "iopub.status.busy": "2024-01-14T04:41:41.948089Z",
     "iopub.status.idle": "2024-01-14T04:41:41.953378Z",
     "shell.execute_reply": "2024-01-14T04:41:41.952355Z"
    },
    "papermill": {
     "duration": 0.018122,
     "end_time": "2024-01-14T04:41:41.955152",
     "exception": false,
     "start_time": "2024-01-14T04:41:41.937030",
     "status": "completed"
    },
    "tags": []
   },
   "outputs": [
    {
     "data": {
      "text/plain": [
       "(1460, 76)"
      ]
     },
     "execution_count": 7,
     "metadata": {},
     "output_type": "execute_result"
    }
   ],
   "source": [
    "df.shape"
   ]
  },
  {
   "cell_type": "code",
   "execution_count": 8,
   "id": "1e6c0353",
   "metadata": {
    "execution": {
     "iopub.execute_input": "2024-01-14T04:41:41.978011Z",
     "iopub.status.busy": "2024-01-14T04:41:41.977776Z",
     "iopub.status.idle": "2024-01-14T04:41:41.985189Z",
     "shell.execute_reply": "2024-01-14T04:41:41.984382Z"
    },
    "papermill": {
     "duration": 0.020638,
     "end_time": "2024-01-14T04:41:41.986914",
     "exception": false,
     "start_time": "2024-01-14T04:41:41.966276",
     "status": "completed"
    },
    "tags": []
   },
   "outputs": [],
   "source": [
    "df.drop(['Id'],axis=1,inplace=True)\n",
    "dF.drop(['Id'],axis=1,inplace=True)\n"
   ]
  },
  {
   "cell_type": "code",
   "execution_count": 9,
   "id": "5db6e3a8",
   "metadata": {
    "execution": {
     "iopub.execute_input": "2024-01-14T04:41:42.009867Z",
     "iopub.status.busy": "2024-01-14T04:41:42.009539Z",
     "iopub.status.idle": "2024-01-14T04:41:42.015190Z",
     "shell.execute_reply": "2024-01-14T04:41:42.014360Z"
    },
    "papermill": {
     "duration": 0.019275,
     "end_time": "2024-01-14T04:41:42.016918",
     "exception": false,
     "start_time": "2024-01-14T04:41:41.997643",
     "status": "completed"
    },
    "tags": []
   },
   "outputs": [
    {
     "data": {
      "text/plain": [
       "(1459, 74)"
      ]
     },
     "execution_count": 9,
     "metadata": {},
     "output_type": "execute_result"
    }
   ],
   "source": [
    "dF.shape"
   ]
  },
  {
   "cell_type": "code",
   "execution_count": 10,
   "id": "df822973",
   "metadata": {
    "execution": {
     "iopub.execute_input": "2024-01-14T04:41:42.040026Z",
     "iopub.status.busy": "2024-01-14T04:41:42.039664Z",
     "iopub.status.idle": "2024-01-14T04:41:42.049992Z",
     "shell.execute_reply": "2024-01-14T04:41:42.049069Z"
    },
    "papermill": {
     "duration": 0.023625,
     "end_time": "2024-01-14T04:41:42.051647",
     "exception": false,
     "start_time": "2024-01-14T04:41:42.028022",
     "status": "completed"
    },
    "tags": []
   },
   "outputs": [],
   "source": [
    "df['MasVnrType']=df['MasVnrType'].fillna(df['MasVnrType'].mode()[0])\n",
    "df['MasVnrArea']=df['MasVnrArea'].fillna(df['MasVnrArea'].mode()[0])\n",
    "\n",
    "dF['MasVnrType']=df['MasVnrType'].fillna(dF['MasVnrType'].mode()[0])\n",
    "dF['MasVnrArea']=df['MasVnrArea'].fillna(dF['MasVnrArea'].mode()[0])"
   ]
  },
  {
   "cell_type": "code",
   "execution_count": 11,
   "id": "5c8c87c3",
   "metadata": {
    "execution": {
     "iopub.execute_input": "2024-01-14T04:41:42.117684Z",
     "iopub.status.busy": "2024-01-14T04:41:42.117400Z",
     "iopub.status.idle": "2024-01-14T04:41:42.125982Z",
     "shell.execute_reply": "2024-01-14T04:41:42.125215Z"
    },
    "papermill": {
     "duration": 0.022158,
     "end_time": "2024-01-14T04:41:42.127701",
     "exception": false,
     "start_time": "2024-01-14T04:41:42.105543",
     "status": "completed"
    },
    "tags": []
   },
   "outputs": [],
   "source": [
    "dF['BsmtExposure']=df['BsmtExposure'].fillna(dF['BsmtExposure'].mode()[0])\n",
    "dF['BsmtExposure']=df['BsmtExposure'].fillna(dF['BsmtExposure'].mode()[0])"
   ]
  },
  {
   "cell_type": "code",
   "execution_count": 12,
   "id": "52558ebd",
   "metadata": {
    "execution": {
     "iopub.execute_input": "2024-01-14T04:41:42.152049Z",
     "iopub.status.busy": "2024-01-14T04:41:42.151712Z",
     "iopub.status.idle": "2024-01-14T04:41:42.158587Z",
     "shell.execute_reply": "2024-01-14T04:41:42.157851Z"
    },
    "papermill": {
     "duration": 0.021285,
     "end_time": "2024-01-14T04:41:42.160382",
     "exception": false,
     "start_time": "2024-01-14T04:41:42.139097",
     "status": "completed"
    },
    "tags": []
   },
   "outputs": [],
   "source": [
    "df['BsmtFinType2']=df['BsmtFinType2'].fillna(df['BsmtFinType2'].mode()[0])\n",
    "dF['BsmtFinType2']=df['BsmtFinType2'].fillna(dF['BsmtFinType2'].mode()[0])"
   ]
  },
  {
   "cell_type": "code",
   "execution_count": 13,
   "id": "db367819",
   "metadata": {
    "execution": {
     "iopub.execute_input": "2024-01-14T04:41:42.183505Z",
     "iopub.status.busy": "2024-01-14T04:41:42.183212Z",
     "iopub.status.idle": "2024-01-14T04:41:42.193396Z",
     "shell.execute_reply": "2024-01-14T04:41:42.192582Z"
    },
    "papermill": {
     "duration": 0.023494,
     "end_time": "2024-01-14T04:41:42.194950",
     "exception": false,
     "start_time": "2024-01-14T04:41:42.171456",
     "status": "completed"
    },
    "tags": []
   },
   "outputs": [
    {
     "data": {
      "text/plain": [
       "MSSubClass       0\n",
       "MSZoning         0\n",
       "LotFrontage      0\n",
       "LotArea          0\n",
       "Street           0\n",
       "                ..\n",
       "MoSold           0\n",
       "YrSold           0\n",
       "SaleType         0\n",
       "SaleCondition    0\n",
       "SalePrice        0\n",
       "Length: 75, dtype: int64"
      ]
     },
     "execution_count": 13,
     "metadata": {},
     "output_type": "execute_result"
    }
   ],
   "source": [
    "df.isnull().sum()"
   ]
  },
  {
   "cell_type": "code",
   "execution_count": 14,
   "id": "b1d3a7b2",
   "metadata": {
    "execution": {
     "iopub.execute_input": "2024-01-14T04:41:42.217600Z",
     "iopub.status.busy": "2024-01-14T04:41:42.217187Z",
     "iopub.status.idle": "2024-01-14T04:41:42.222438Z",
     "shell.execute_reply": "2024-01-14T04:41:42.221575Z"
    },
    "papermill": {
     "duration": 0.018256,
     "end_time": "2024-01-14T04:41:42.224073",
     "exception": false,
     "start_time": "2024-01-14T04:41:42.205817",
     "status": "completed"
    },
    "tags": []
   },
   "outputs": [
    {
     "data": {
      "text/plain": [
       "(1460, 75)"
      ]
     },
     "execution_count": 14,
     "metadata": {},
     "output_type": "execute_result"
    }
   ],
   "source": [
    "df.shape"
   ]
  },
  {
   "cell_type": "code",
   "execution_count": 15,
   "id": "55d476d7",
   "metadata": {
    "execution": {
     "iopub.execute_input": "2024-01-14T04:41:42.246721Z",
     "iopub.status.busy": "2024-01-14T04:41:42.246484Z",
     "iopub.status.idle": "2024-01-14T04:41:42.251576Z",
     "shell.execute_reply": "2024-01-14T04:41:42.250693Z"
    },
    "papermill": {
     "duration": 0.018606,
     "end_time": "2024-01-14T04:41:42.253396",
     "exception": false,
     "start_time": "2024-01-14T04:41:42.234790",
     "status": "completed"
    },
    "tags": []
   },
   "outputs": [
    {
     "data": {
      "text/plain": [
       "(1459, 74)"
      ]
     },
     "execution_count": 15,
     "metadata": {},
     "output_type": "execute_result"
    }
   ],
   "source": [
    "dF.shape"
   ]
  },
  {
   "cell_type": "code",
   "execution_count": 16,
   "id": "20116fcf",
   "metadata": {
    "execution": {
     "iopub.execute_input": "2024-01-14T04:41:42.276754Z",
     "iopub.status.busy": "2024-01-14T04:41:42.276474Z",
     "iopub.status.idle": "2024-01-14T04:41:42.280756Z",
     "shell.execute_reply": "2024-01-14T04:41:42.280161Z"
    },
    "papermill": {
     "duration": 0.017667,
     "end_time": "2024-01-14T04:41:42.282304",
     "exception": false,
     "start_time": "2024-01-14T04:41:42.264637",
     "status": "completed"
    },
    "tags": []
   },
   "outputs": [
    {
     "data": {
      "text/plain": [
       "(1459, 74)"
      ]
     },
     "execution_count": 16,
     "metadata": {},
     "output_type": "execute_result"
    }
   ],
   "source": [
    "dF.shape"
   ]
  },
  {
   "cell_type": "code",
   "execution_count": 17,
   "id": "8e2bb4f2",
   "metadata": {
    "execution": {
     "iopub.execute_input": "2024-01-14T04:41:42.306703Z",
     "iopub.status.busy": "2024-01-14T04:41:42.306434Z",
     "iopub.status.idle": "2024-01-14T04:41:42.311204Z",
     "shell.execute_reply": "2024-01-14T04:41:42.310500Z"
    },
    "papermill": {
     "duration": 0.018389,
     "end_time": "2024-01-14T04:41:42.312739",
     "exception": false,
     "start_time": "2024-01-14T04:41:42.294350",
     "status": "completed"
    },
    "tags": []
   },
   "outputs": [],
   "source": [
    "columns=['MSZoning','Street','LotShape','LandContour','Utilities','LotConfig','LandSlope','Neighborhood',\n",
    "         'Condition2','BldgType','Condition1','HouseStyle','SaleType',\n",
    "        'SaleCondition','ExterCond',\n",
    "         'ExterQual','Foundation','BsmtQual','BsmtCond','BsmtExposure','BsmtFinType1','BsmtFinType2',\n",
    "        'RoofStyle','RoofMatl','Exterior1st','Exterior2nd','MasVnrType','Heating','HeatingQC',\n",
    "         'CentralAir',\n",
    "         'Electrical','KitchenQual','Functional',\n",
    "         'FireplaceQu','GarageType','GarageFinish','GarageQual','GarageCond','PavedDrive']"
   ]
  },
  {
   "cell_type": "code",
   "execution_count": 18,
   "id": "7603dda3",
   "metadata": {
    "execution": {
     "iopub.execute_input": "2024-01-14T04:41:42.335999Z",
     "iopub.status.busy": "2024-01-14T04:41:42.335665Z",
     "iopub.status.idle": "2024-01-14T04:41:42.341612Z",
     "shell.execute_reply": "2024-01-14T04:41:42.340745Z"
    },
    "papermill": {
     "duration": 0.019657,
     "end_time": "2024-01-14T04:41:42.343309",
     "exception": false,
     "start_time": "2024-01-14T04:41:42.323652",
     "status": "completed"
    },
    "tags": []
   },
   "outputs": [],
   "source": [
    "def category_onehot_multcols(multcolumns):\n",
    "    df_final=final_df\n",
    "    i=0\n",
    "    for fields in multcolumns:\n",
    "        \n",
    "        print(fields)\n",
    "        df1=pd.get_dummies(final_df[fields],drop_first=True)\n",
    "        \n",
    "        final_df.drop([fields],axis=1,inplace=True)\n",
    "        if i==0:\n",
    "            df_final=df1.copy()\n",
    "        else:\n",
    "            \n",
    "            df_final=pd.concat([df_final,df1],axis=1)\n",
    "        i=i+1\n",
    "       \n",
    "        \n",
    "    df_final=pd.concat([final_df,df_final],axis=1)\n",
    "        \n",
    "    return df_final"
   ]
  },
  {
   "cell_type": "code",
   "execution_count": 19,
   "id": "d808c38e",
   "metadata": {
    "execution": {
     "iopub.execute_input": "2024-01-14T04:41:42.366222Z",
     "iopub.status.busy": "2024-01-14T04:41:42.365960Z",
     "iopub.status.idle": "2024-01-14T04:41:42.371324Z",
     "shell.execute_reply": "2024-01-14T04:41:42.370605Z"
    },
    "papermill": {
     "duration": 0.018728,
     "end_time": "2024-01-14T04:41:42.372901",
     "exception": false,
     "start_time": "2024-01-14T04:41:42.354173",
     "status": "completed"
    },
    "tags": []
   },
   "outputs": [
    {
     "data": {
      "text/plain": [
       "(1460, 75)"
      ]
     },
     "execution_count": 19,
     "metadata": {},
     "output_type": "execute_result"
    }
   ],
   "source": [
    "df.shape"
   ]
  },
  {
   "cell_type": "code",
   "execution_count": 20,
   "id": "40381879",
   "metadata": {
    "execution": {
     "iopub.execute_input": "2024-01-14T04:41:42.396158Z",
     "iopub.status.busy": "2024-01-14T04:41:42.395914Z",
     "iopub.status.idle": "2024-01-14T04:41:42.400834Z",
     "shell.execute_reply": "2024-01-14T04:41:42.399990Z"
    },
    "papermill": {
     "duration": 0.018486,
     "end_time": "2024-01-14T04:41:42.402439",
     "exception": false,
     "start_time": "2024-01-14T04:41:42.383953",
     "status": "completed"
    },
    "tags": []
   },
   "outputs": [],
   "source": [
    "main_df=df.copy()\n"
   ]
  },
  {
   "cell_type": "code",
   "execution_count": 21,
   "id": "a1280516",
   "metadata": {
    "execution": {
     "iopub.execute_input": "2024-01-14T04:41:42.425785Z",
     "iopub.status.busy": "2024-01-14T04:41:42.425506Z",
     "iopub.status.idle": "2024-01-14T04:41:42.428901Z",
     "shell.execute_reply": "2024-01-14T04:41:42.428078Z"
    },
    "papermill": {
     "duration": 0.017396,
     "end_time": "2024-01-14T04:41:42.430862",
     "exception": false,
     "start_time": "2024-01-14T04:41:42.413466",
     "status": "completed"
    },
    "tags": []
   },
   "outputs": [],
   "source": [
    "test_df=dF"
   ]
  },
  {
   "cell_type": "code",
   "execution_count": null,
   "id": "8018b479",
   "metadata": {
    "papermill": {
     "duration": 0.011136,
     "end_time": "2024-01-14T04:41:42.453841",
     "exception": false,
     "start_time": "2024-01-14T04:41:42.442705",
     "status": "completed"
    },
    "tags": []
   },
   "outputs": [],
   "source": []
  },
  {
   "cell_type": "code",
   "execution_count": 22,
   "id": "b18d7192",
   "metadata": {
    "execution": {
     "iopub.execute_input": "2024-01-14T04:41:42.477706Z",
     "iopub.status.busy": "2024-01-14T04:41:42.477152Z",
     "iopub.status.idle": "2024-01-14T04:41:42.481574Z",
     "shell.execute_reply": "2024-01-14T04:41:42.481028Z"
    },
    "papermill": {
     "duration": 0.017985,
     "end_time": "2024-01-14T04:41:42.482968",
     "exception": false,
     "start_time": "2024-01-14T04:41:42.464983",
     "status": "completed"
    },
    "tags": []
   },
   "outputs": [
    {
     "data": {
      "text/plain": [
       "(1459, 74)"
      ]
     },
     "execution_count": 22,
     "metadata": {},
     "output_type": "execute_result"
    }
   ],
   "source": [
    "test_df.shape\n"
   ]
  },
  {
   "cell_type": "code",
   "execution_count": 23,
   "id": "a19c912c",
   "metadata": {
    "execution": {
     "iopub.execute_input": "2024-01-14T04:41:42.506134Z",
     "iopub.status.busy": "2024-01-14T04:41:42.505696Z",
     "iopub.status.idle": "2024-01-14T04:41:42.513885Z",
     "shell.execute_reply": "2024-01-14T04:41:42.513266Z"
    },
    "papermill": {
     "duration": 0.021801,
     "end_time": "2024-01-14T04:41:42.515760",
     "exception": false,
     "start_time": "2024-01-14T04:41:42.493959",
     "status": "completed"
    },
    "tags": []
   },
   "outputs": [],
   "source": [
    "final_df=pd.concat([df,test_df],axis=0)\n"
   ]
  },
  {
   "cell_type": "code",
   "execution_count": 24,
   "id": "ed0114d4",
   "metadata": {
    "execution": {
     "iopub.execute_input": "2024-01-14T04:41:42.538577Z",
     "iopub.status.busy": "2024-01-14T04:41:42.538337Z",
     "iopub.status.idle": "2024-01-14T04:41:42.544214Z",
     "shell.execute_reply": "2024-01-14T04:41:42.543701Z"
    },
    "papermill": {
     "duration": 0.01908,
     "end_time": "2024-01-14T04:41:42.545828",
     "exception": false,
     "start_time": "2024-01-14T04:41:42.526748",
     "status": "completed"
    },
    "tags": []
   },
   "outputs": [
    {
     "data": {
      "text/plain": [
       "0       208500.0\n",
       "1       181500.0\n",
       "2       223500.0\n",
       "3       140000.0\n",
       "4       250000.0\n",
       "          ...   \n",
       "1454         NaN\n",
       "1455         NaN\n",
       "1456         NaN\n",
       "1457         NaN\n",
       "1458         NaN\n",
       "Name: SalePrice, Length: 2919, dtype: float64"
      ]
     },
     "execution_count": 24,
     "metadata": {},
     "output_type": "execute_result"
    }
   ],
   "source": [
    "final_df['SalePrice']\n"
   ]
  },
  {
   "cell_type": "code",
   "execution_count": 25,
   "id": "ca7a067e",
   "metadata": {
    "execution": {
     "iopub.execute_input": "2024-01-14T04:41:42.568886Z",
     "iopub.status.busy": "2024-01-14T04:41:42.568644Z",
     "iopub.status.idle": "2024-01-14T04:41:42.574125Z",
     "shell.execute_reply": "2024-01-14T04:41:42.573364Z"
    },
    "papermill": {
     "duration": 0.018788,
     "end_time": "2024-01-14T04:41:42.575663",
     "exception": false,
     "start_time": "2024-01-14T04:41:42.556875",
     "status": "completed"
    },
    "tags": []
   },
   "outputs": [
    {
     "data": {
      "text/plain": [
       "(2919, 75)"
      ]
     },
     "execution_count": 25,
     "metadata": {},
     "output_type": "execute_result"
    }
   ],
   "source": [
    "final_df.shape\n"
   ]
  },
  {
   "cell_type": "code",
   "execution_count": 26,
   "id": "02ff39fa",
   "metadata": {
    "execution": {
     "iopub.execute_input": "2024-01-14T04:41:42.599314Z",
     "iopub.status.busy": "2024-01-14T04:41:42.598899Z",
     "iopub.status.idle": "2024-01-14T04:41:42.716912Z",
     "shell.execute_reply": "2024-01-14T04:41:42.715799Z"
    },
    "papermill": {
     "duration": 0.131966,
     "end_time": "2024-01-14T04:41:42.718830",
     "exception": false,
     "start_time": "2024-01-14T04:41:42.586864",
     "status": "completed"
    },
    "tags": []
   },
   "outputs": [
    {
     "name": "stdout",
     "output_type": "stream",
     "text": [
      "MSZoning\n",
      "Street\n",
      "LotShape\n",
      "LandContour\n",
      "Utilities\n",
      "LotConfig\n",
      "LandSlope\n",
      "Neighborhood\n",
      "Condition2\n",
      "BldgType\n",
      "Condition1\n",
      "HouseStyle\n",
      "SaleType\n",
      "SaleCondition\n",
      "ExterCond\n",
      "ExterQual\n",
      "Foundation\n",
      "BsmtQual\n",
      "BsmtCond\n",
      "BsmtExposure\n",
      "BsmtFinType1\n",
      "BsmtFinType2\n",
      "RoofStyle\n",
      "RoofMatl\n",
      "Exterior1st\n",
      "Exterior2nd\n",
      "MasVnrType\n",
      "Heating\n",
      "HeatingQC\n",
      "CentralAir\n",
      "Electrical\n",
      "KitchenQual\n",
      "Functional\n",
      "FireplaceQu\n",
      "GarageType\n",
      "GarageFinish\n",
      "GarageQual\n",
      "GarageCond\n",
      "PavedDrive\n"
     ]
    }
   ],
   "source": [
    "final_df=category_onehot_multcols(columns)\n"
   ]
  },
  {
   "cell_type": "code",
   "execution_count": 27,
   "id": "5a79cceb",
   "metadata": {
    "execution": {
     "iopub.execute_input": "2024-01-14T04:41:42.743380Z",
     "iopub.status.busy": "2024-01-14T04:41:42.742787Z",
     "iopub.status.idle": "2024-01-14T04:41:42.747237Z",
     "shell.execute_reply": "2024-01-14T04:41:42.746695Z"
    },
    "papermill": {
     "duration": 0.018951,
     "end_time": "2024-01-14T04:41:42.749485",
     "exception": false,
     "start_time": "2024-01-14T04:41:42.730534",
     "status": "completed"
    },
    "tags": []
   },
   "outputs": [
    {
     "data": {
      "text/plain": [
       "(2919, 235)"
      ]
     },
     "execution_count": 27,
     "metadata": {},
     "output_type": "execute_result"
    }
   ],
   "source": [
    "final_df.shape\n"
   ]
  },
  {
   "cell_type": "code",
   "execution_count": 28,
   "id": "eb89c8f3",
   "metadata": {
    "execution": {
     "iopub.execute_input": "2024-01-14T04:41:42.774034Z",
     "iopub.status.busy": "2024-01-14T04:41:42.773837Z",
     "iopub.status.idle": "2024-01-14T04:41:42.797479Z",
     "shell.execute_reply": "2024-01-14T04:41:42.796740Z"
    },
    "papermill": {
     "duration": 0.037458,
     "end_time": "2024-01-14T04:41:42.799136",
     "exception": false,
     "start_time": "2024-01-14T04:41:42.761678",
     "status": "completed"
    },
    "tags": []
   },
   "outputs": [
    {
     "data": {
      "text/html": [
       "<div>\n",
       "<style scoped>\n",
       "    .dataframe tbody tr th:only-of-type {\n",
       "        vertical-align: middle;\n",
       "    }\n",
       "\n",
       "    .dataframe tbody tr th {\n",
       "        vertical-align: top;\n",
       "    }\n",
       "\n",
       "    .dataframe thead th {\n",
       "        text-align: right;\n",
       "    }\n",
       "</style>\n",
       "<table border=\"1\" class=\"dataframe\">\n",
       "  <thead>\n",
       "    <tr style=\"text-align: right;\">\n",
       "      <th></th>\n",
       "      <th>MSSubClass</th>\n",
       "      <th>LotFrontage</th>\n",
       "      <th>LotArea</th>\n",
       "      <th>OverallQual</th>\n",
       "      <th>OverallCond</th>\n",
       "      <th>YearBuilt</th>\n",
       "      <th>YearRemodAdd</th>\n",
       "      <th>MasVnrArea</th>\n",
       "      <th>BsmtFinSF1</th>\n",
       "      <th>BsmtFinSF2</th>\n",
       "      <th>...</th>\n",
       "      <th>Fa</th>\n",
       "      <th>Gd</th>\n",
       "      <th>Po</th>\n",
       "      <th>TA</th>\n",
       "      <th>Fa</th>\n",
       "      <th>Gd</th>\n",
       "      <th>Po</th>\n",
       "      <th>TA</th>\n",
       "      <th>P</th>\n",
       "      <th>Y</th>\n",
       "    </tr>\n",
       "  </thead>\n",
       "  <tbody>\n",
       "    <tr>\n",
       "      <th>0</th>\n",
       "      <td>60</td>\n",
       "      <td>65.0</td>\n",
       "      <td>8450</td>\n",
       "      <td>7</td>\n",
       "      <td>5</td>\n",
       "      <td>2003</td>\n",
       "      <td>2003</td>\n",
       "      <td>196.0</td>\n",
       "      <td>706.0</td>\n",
       "      <td>0.0</td>\n",
       "      <td>...</td>\n",
       "      <td>False</td>\n",
       "      <td>False</td>\n",
       "      <td>False</td>\n",
       "      <td>True</td>\n",
       "      <td>False</td>\n",
       "      <td>False</td>\n",
       "      <td>False</td>\n",
       "      <td>True</td>\n",
       "      <td>False</td>\n",
       "      <td>True</td>\n",
       "    </tr>\n",
       "    <tr>\n",
       "      <th>1</th>\n",
       "      <td>20</td>\n",
       "      <td>80.0</td>\n",
       "      <td>9600</td>\n",
       "      <td>6</td>\n",
       "      <td>8</td>\n",
       "      <td>1976</td>\n",
       "      <td>1976</td>\n",
       "      <td>0.0</td>\n",
       "      <td>978.0</td>\n",
       "      <td>0.0</td>\n",
       "      <td>...</td>\n",
       "      <td>False</td>\n",
       "      <td>False</td>\n",
       "      <td>False</td>\n",
       "      <td>True</td>\n",
       "      <td>False</td>\n",
       "      <td>False</td>\n",
       "      <td>False</td>\n",
       "      <td>True</td>\n",
       "      <td>False</td>\n",
       "      <td>True</td>\n",
       "    </tr>\n",
       "    <tr>\n",
       "      <th>2</th>\n",
       "      <td>60</td>\n",
       "      <td>68.0</td>\n",
       "      <td>11250</td>\n",
       "      <td>7</td>\n",
       "      <td>5</td>\n",
       "      <td>2001</td>\n",
       "      <td>2002</td>\n",
       "      <td>162.0</td>\n",
       "      <td>486.0</td>\n",
       "      <td>0.0</td>\n",
       "      <td>...</td>\n",
       "      <td>False</td>\n",
       "      <td>False</td>\n",
       "      <td>False</td>\n",
       "      <td>True</td>\n",
       "      <td>False</td>\n",
       "      <td>False</td>\n",
       "      <td>False</td>\n",
       "      <td>True</td>\n",
       "      <td>False</td>\n",
       "      <td>True</td>\n",
       "    </tr>\n",
       "    <tr>\n",
       "      <th>3</th>\n",
       "      <td>70</td>\n",
       "      <td>60.0</td>\n",
       "      <td>9550</td>\n",
       "      <td>7</td>\n",
       "      <td>5</td>\n",
       "      <td>1915</td>\n",
       "      <td>1970</td>\n",
       "      <td>0.0</td>\n",
       "      <td>216.0</td>\n",
       "      <td>0.0</td>\n",
       "      <td>...</td>\n",
       "      <td>False</td>\n",
       "      <td>False</td>\n",
       "      <td>False</td>\n",
       "      <td>True</td>\n",
       "      <td>False</td>\n",
       "      <td>False</td>\n",
       "      <td>False</td>\n",
       "      <td>True</td>\n",
       "      <td>False</td>\n",
       "      <td>True</td>\n",
       "    </tr>\n",
       "    <tr>\n",
       "      <th>4</th>\n",
       "      <td>60</td>\n",
       "      <td>84.0</td>\n",
       "      <td>14260</td>\n",
       "      <td>8</td>\n",
       "      <td>5</td>\n",
       "      <td>2000</td>\n",
       "      <td>2000</td>\n",
       "      <td>350.0</td>\n",
       "      <td>655.0</td>\n",
       "      <td>0.0</td>\n",
       "      <td>...</td>\n",
       "      <td>False</td>\n",
       "      <td>False</td>\n",
       "      <td>False</td>\n",
       "      <td>True</td>\n",
       "      <td>False</td>\n",
       "      <td>False</td>\n",
       "      <td>False</td>\n",
       "      <td>True</td>\n",
       "      <td>False</td>\n",
       "      <td>True</td>\n",
       "    </tr>\n",
       "    <tr>\n",
       "      <th>...</th>\n",
       "      <td>...</td>\n",
       "      <td>...</td>\n",
       "      <td>...</td>\n",
       "      <td>...</td>\n",
       "      <td>...</td>\n",
       "      <td>...</td>\n",
       "      <td>...</td>\n",
       "      <td>...</td>\n",
       "      <td>...</td>\n",
       "      <td>...</td>\n",
       "      <td>...</td>\n",
       "      <td>...</td>\n",
       "      <td>...</td>\n",
       "      <td>...</td>\n",
       "      <td>...</td>\n",
       "      <td>...</td>\n",
       "      <td>...</td>\n",
       "      <td>...</td>\n",
       "      <td>...</td>\n",
       "      <td>...</td>\n",
       "      <td>...</td>\n",
       "    </tr>\n",
       "    <tr>\n",
       "      <th>1454</th>\n",
       "      <td>160</td>\n",
       "      <td>62.0</td>\n",
       "      <td>1936</td>\n",
       "      <td>4</td>\n",
       "      <td>7</td>\n",
       "      <td>1970</td>\n",
       "      <td>1970</td>\n",
       "      <td>0.0</td>\n",
       "      <td>0.0</td>\n",
       "      <td>0.0</td>\n",
       "      <td>...</td>\n",
       "      <td>False</td>\n",
       "      <td>False</td>\n",
       "      <td>False</td>\n",
       "      <td>True</td>\n",
       "      <td>False</td>\n",
       "      <td>False</td>\n",
       "      <td>False</td>\n",
       "      <td>True</td>\n",
       "      <td>False</td>\n",
       "      <td>True</td>\n",
       "    </tr>\n",
       "    <tr>\n",
       "      <th>1455</th>\n",
       "      <td>160</td>\n",
       "      <td>62.0</td>\n",
       "      <td>1894</td>\n",
       "      <td>4</td>\n",
       "      <td>5</td>\n",
       "      <td>1970</td>\n",
       "      <td>1970</td>\n",
       "      <td>0.0</td>\n",
       "      <td>252.0</td>\n",
       "      <td>0.0</td>\n",
       "      <td>...</td>\n",
       "      <td>False</td>\n",
       "      <td>False</td>\n",
       "      <td>False</td>\n",
       "      <td>True</td>\n",
       "      <td>False</td>\n",
       "      <td>False</td>\n",
       "      <td>False</td>\n",
       "      <td>True</td>\n",
       "      <td>False</td>\n",
       "      <td>True</td>\n",
       "    </tr>\n",
       "    <tr>\n",
       "      <th>1456</th>\n",
       "      <td>20</td>\n",
       "      <td>85.0</td>\n",
       "      <td>20000</td>\n",
       "      <td>5</td>\n",
       "      <td>7</td>\n",
       "      <td>1960</td>\n",
       "      <td>1996</td>\n",
       "      <td>119.0</td>\n",
       "      <td>1224.0</td>\n",
       "      <td>0.0</td>\n",
       "      <td>...</td>\n",
       "      <td>False</td>\n",
       "      <td>False</td>\n",
       "      <td>False</td>\n",
       "      <td>True</td>\n",
       "      <td>False</td>\n",
       "      <td>False</td>\n",
       "      <td>False</td>\n",
       "      <td>True</td>\n",
       "      <td>False</td>\n",
       "      <td>True</td>\n",
       "    </tr>\n",
       "    <tr>\n",
       "      <th>1457</th>\n",
       "      <td>85</td>\n",
       "      <td>66.0</td>\n",
       "      <td>10441</td>\n",
       "      <td>5</td>\n",
       "      <td>5</td>\n",
       "      <td>1992</td>\n",
       "      <td>1992</td>\n",
       "      <td>0.0</td>\n",
       "      <td>337.0</td>\n",
       "      <td>0.0</td>\n",
       "      <td>...</td>\n",
       "      <td>False</td>\n",
       "      <td>False</td>\n",
       "      <td>False</td>\n",
       "      <td>True</td>\n",
       "      <td>False</td>\n",
       "      <td>False</td>\n",
       "      <td>False</td>\n",
       "      <td>True</td>\n",
       "      <td>False</td>\n",
       "      <td>True</td>\n",
       "    </tr>\n",
       "    <tr>\n",
       "      <th>1458</th>\n",
       "      <td>60</td>\n",
       "      <td>68.0</td>\n",
       "      <td>9627</td>\n",
       "      <td>7</td>\n",
       "      <td>5</td>\n",
       "      <td>1993</td>\n",
       "      <td>1994</td>\n",
       "      <td>0.0</td>\n",
       "      <td>758.0</td>\n",
       "      <td>0.0</td>\n",
       "      <td>...</td>\n",
       "      <td>False</td>\n",
       "      <td>False</td>\n",
       "      <td>False</td>\n",
       "      <td>True</td>\n",
       "      <td>False</td>\n",
       "      <td>False</td>\n",
       "      <td>False</td>\n",
       "      <td>True</td>\n",
       "      <td>False</td>\n",
       "      <td>True</td>\n",
       "    </tr>\n",
       "  </tbody>\n",
       "</table>\n",
       "<p>2919 rows × 235 columns</p>\n",
       "</div>"
      ],
      "text/plain": [
       "      MSSubClass  LotFrontage  LotArea  OverallQual  OverallCond  YearBuilt  \\\n",
       "0             60         65.0     8450            7            5       2003   \n",
       "1             20         80.0     9600            6            8       1976   \n",
       "2             60         68.0    11250            7            5       2001   \n",
       "3             70         60.0     9550            7            5       1915   \n",
       "4             60         84.0    14260            8            5       2000   \n",
       "...          ...          ...      ...          ...          ...        ...   \n",
       "1454         160         62.0     1936            4            7       1970   \n",
       "1455         160         62.0     1894            4            5       1970   \n",
       "1456          20         85.0    20000            5            7       1960   \n",
       "1457          85         66.0    10441            5            5       1992   \n",
       "1458          60         68.0     9627            7            5       1993   \n",
       "\n",
       "      YearRemodAdd  MasVnrArea  BsmtFinSF1  BsmtFinSF2  ...     Fa     Gd  \\\n",
       "0             2003       196.0       706.0         0.0  ...  False  False   \n",
       "1             1976         0.0       978.0         0.0  ...  False  False   \n",
       "2             2002       162.0       486.0         0.0  ...  False  False   \n",
       "3             1970         0.0       216.0         0.0  ...  False  False   \n",
       "4             2000       350.0       655.0         0.0  ...  False  False   \n",
       "...            ...         ...         ...         ...  ...    ...    ...   \n",
       "1454          1970         0.0         0.0         0.0  ...  False  False   \n",
       "1455          1970         0.0       252.0         0.0  ...  False  False   \n",
       "1456          1996       119.0      1224.0         0.0  ...  False  False   \n",
       "1457          1992         0.0       337.0         0.0  ...  False  False   \n",
       "1458          1994         0.0       758.0         0.0  ...  False  False   \n",
       "\n",
       "         Po    TA     Fa     Gd     Po    TA      P     Y  \n",
       "0     False  True  False  False  False  True  False  True  \n",
       "1     False  True  False  False  False  True  False  True  \n",
       "2     False  True  False  False  False  True  False  True  \n",
       "3     False  True  False  False  False  True  False  True  \n",
       "4     False  True  False  False  False  True  False  True  \n",
       "...     ...   ...    ...    ...    ...   ...    ...   ...  \n",
       "1454  False  True  False  False  False  True  False  True  \n",
       "1455  False  True  False  False  False  True  False  True  \n",
       "1456  False  True  False  False  False  True  False  True  \n",
       "1457  False  True  False  False  False  True  False  True  \n",
       "1458  False  True  False  False  False  True  False  True  \n",
       "\n",
       "[2919 rows x 235 columns]"
      ]
     },
     "execution_count": 28,
     "metadata": {},
     "output_type": "execute_result"
    }
   ],
   "source": [
    "final_df\n"
   ]
  },
  {
   "cell_type": "code",
   "execution_count": 29,
   "id": "8cb877bb",
   "metadata": {
    "execution": {
     "iopub.execute_input": "2024-01-14T04:41:42.824793Z",
     "iopub.status.busy": "2024-01-14T04:41:42.824513Z",
     "iopub.status.idle": "2024-01-14T04:41:42.829396Z",
     "shell.execute_reply": "2024-01-14T04:41:42.828622Z"
    },
    "papermill": {
     "duration": 0.019098,
     "end_time": "2024-01-14T04:41:42.830872",
     "exception": false,
     "start_time": "2024-01-14T04:41:42.811774",
     "status": "completed"
    },
    "tags": []
   },
   "outputs": [
    {
     "data": {
      "text/plain": [
       "(2919, 235)"
      ]
     },
     "execution_count": 29,
     "metadata": {},
     "output_type": "execute_result"
    }
   ],
   "source": [
    "final_df.shape"
   ]
  },
  {
   "cell_type": "code",
   "execution_count": 30,
   "id": "9fd70002",
   "metadata": {
    "execution": {
     "iopub.execute_input": "2024-01-14T04:41:42.855785Z",
     "iopub.status.busy": "2024-01-14T04:41:42.855500Z",
     "iopub.status.idle": "2024-01-14T04:41:42.861128Z",
     "shell.execute_reply": "2024-01-14T04:41:42.860394Z"
    },
    "papermill": {
     "duration": 0.019933,
     "end_time": "2024-01-14T04:41:42.862639",
     "exception": false,
     "start_time": "2024-01-14T04:41:42.842706",
     "status": "completed"
    },
    "tags": []
   },
   "outputs": [],
   "source": [
    "final_df =final_df.loc[:,~final_df.columns.duplicated()]\n"
   ]
  },
  {
   "cell_type": "code",
   "execution_count": 31,
   "id": "3fa43d90",
   "metadata": {
    "execution": {
     "iopub.execute_input": "2024-01-14T04:41:42.887648Z",
     "iopub.status.busy": "2024-01-14T04:41:42.887219Z",
     "iopub.status.idle": "2024-01-14T04:41:42.891260Z",
     "shell.execute_reply": "2024-01-14T04:41:42.890761Z"
    },
    "papermill": {
     "duration": 0.018244,
     "end_time": "2024-01-14T04:41:42.892651",
     "exception": false,
     "start_time": "2024-01-14T04:41:42.874407",
     "status": "completed"
    },
    "tags": []
   },
   "outputs": [
    {
     "data": {
      "text/plain": [
       "(2919, 175)"
      ]
     },
     "execution_count": 31,
     "metadata": {},
     "output_type": "execute_result"
    }
   ],
   "source": [
    "final_df.shape"
   ]
  },
  {
   "cell_type": "code",
   "execution_count": 32,
   "id": "08904ed2",
   "metadata": {
    "execution": {
     "iopub.execute_input": "2024-01-14T04:41:42.918129Z",
     "iopub.status.busy": "2024-01-14T04:41:42.917460Z",
     "iopub.status.idle": "2024-01-14T04:41:42.921611Z",
     "shell.execute_reply": "2024-01-14T04:41:42.920853Z"
    },
    "papermill": {
     "duration": 0.018461,
     "end_time": "2024-01-14T04:41:42.923239",
     "exception": false,
     "start_time": "2024-01-14T04:41:42.904778",
     "status": "completed"
    },
    "tags": []
   },
   "outputs": [],
   "source": [
    "df_Train=final_df.iloc[:1422,:]\n",
    "df_Test=final_df.iloc[1422:,:]"
   ]
  },
  {
   "cell_type": "code",
   "execution_count": 33,
   "id": "79005be4",
   "metadata": {
    "execution": {
     "iopub.execute_input": "2024-01-14T04:41:42.948395Z",
     "iopub.status.busy": "2024-01-14T04:41:42.948072Z",
     "iopub.status.idle": "2024-01-14T04:41:42.953353Z",
     "shell.execute_reply": "2024-01-14T04:41:42.952587Z"
    },
    "papermill": {
     "duration": 0.019758,
     "end_time": "2024-01-14T04:41:42.954819",
     "exception": false,
     "start_time": "2024-01-14T04:41:42.935061",
     "status": "completed"
    },
    "tags": []
   },
   "outputs": [
    {
     "data": {
      "text/plain": [
       "(1422, 175)"
      ]
     },
     "execution_count": 33,
     "metadata": {},
     "output_type": "execute_result"
    }
   ],
   "source": [
    "df_Train.shape"
   ]
  },
  {
   "cell_type": "code",
   "execution_count": 34,
   "id": "ced22713",
   "metadata": {
    "execution": {
     "iopub.execute_input": "2024-01-14T04:41:42.980381Z",
     "iopub.status.busy": "2024-01-14T04:41:42.980056Z",
     "iopub.status.idle": "2024-01-14T04:41:42.986216Z",
     "shell.execute_reply": "2024-01-14T04:41:42.985440Z"
    },
    "papermill": {
     "duration": 0.021571,
     "end_time": "2024-01-14T04:41:42.988376",
     "exception": false,
     "start_time": "2024-01-14T04:41:42.966805",
     "status": "completed"
    },
    "tags": []
   },
   "outputs": [
    {
     "name": "stderr",
     "output_type": "stream",
     "text": [
      "/tmp/ipykernel_18/1769635809.py:1: SettingWithCopyWarning: \n",
      "A value is trying to be set on a copy of a slice from a DataFrame\n",
      "\n",
      "See the caveats in the documentation: https://pandas.pydata.org/pandas-docs/stable/user_guide/indexing.html#returning-a-view-versus-a-copy\n",
      "  df_Test.drop(['SalePrice'],axis=1,inplace=True)\n"
     ]
    }
   ],
   "source": [
    "df_Test.drop(['SalePrice'],axis=1,inplace=True)\n"
   ]
  },
  {
   "cell_type": "code",
   "execution_count": 35,
   "id": "57dccda6",
   "metadata": {
    "execution": {
     "iopub.execute_input": "2024-01-14T04:41:43.015045Z",
     "iopub.status.busy": "2024-01-14T04:41:43.014834Z",
     "iopub.status.idle": "2024-01-14T04:41:43.020603Z",
     "shell.execute_reply": "2024-01-14T04:41:43.019779Z"
    },
    "papermill": {
     "duration": 0.020608,
     "end_time": "2024-01-14T04:41:43.022274",
     "exception": false,
     "start_time": "2024-01-14T04:41:43.001666",
     "status": "completed"
    },
    "tags": []
   },
   "outputs": [],
   "source": [
    "X_train=df_Train.drop(['SalePrice'],axis=1)\n",
    "y_train=df_Train['SalePrice']"
   ]
  },
  {
   "cell_type": "code",
   "execution_count": 36,
   "id": "5eca972d",
   "metadata": {
    "execution": {
     "iopub.execute_input": "2024-01-14T04:41:43.048204Z",
     "iopub.status.busy": "2024-01-14T04:41:43.047981Z",
     "iopub.status.idle": "2024-01-14T04:41:43.377002Z",
     "shell.execute_reply": "2024-01-14T04:41:43.376101Z"
    },
    "papermill": {
     "duration": 0.344034,
     "end_time": "2024-01-14T04:41:43.378999",
     "exception": false,
     "start_time": "2024-01-14T04:41:43.034965",
     "status": "completed"
    },
    "tags": []
   },
   "outputs": [],
   "source": [
    "import xgboost\n",
    "classifier=xgboost.XGBRegressor()\n",
    "regressor=xgboost.XGBRegressor()\n"
   ]
  },
  {
   "cell_type": "code",
   "execution_count": 37,
   "id": "580df7e3",
   "metadata": {
    "execution": {
     "iopub.execute_input": "2024-01-14T04:41:43.405324Z",
     "iopub.status.busy": "2024-01-14T04:41:43.405070Z",
     "iopub.status.idle": "2024-01-14T04:41:43.408880Z",
     "shell.execute_reply": "2024-01-14T04:41:43.408128Z"
    },
    "papermill": {
     "duration": 0.01872,
     "end_time": "2024-01-14T04:41:43.410495",
     "exception": false,
     "start_time": "2024-01-14T04:41:43.391775",
     "status": "completed"
    },
    "tags": []
   },
   "outputs": [],
   "source": [
    "booster=['gbtree','gblinear']\n",
    "base_score=[0.25,0.5,0.75,1]"
   ]
  },
  {
   "cell_type": "code",
   "execution_count": 38,
   "id": "4a1a7a75",
   "metadata": {
    "execution": {
     "iopub.execute_input": "2024-01-14T04:41:43.436347Z",
     "iopub.status.busy": "2024-01-14T04:41:43.436111Z",
     "iopub.status.idle": "2024-01-14T04:41:43.441213Z",
     "shell.execute_reply": "2024-01-14T04:41:43.440289Z"
    },
    "papermill": {
     "duration": 0.020026,
     "end_time": "2024-01-14T04:41:43.442840",
     "exception": false,
     "start_time": "2024-01-14T04:41:43.422814",
     "status": "completed"
    },
    "tags": []
   },
   "outputs": [],
   "source": [
    "\n",
    "n_estimators = [100, 500, 900, 1100, 1500]\n",
    "max_depth = [2, 3, 5, 10, 15]\n",
    "booster=['gbtree','gblinear']\n",
    "learning_rate=[0.05,0.1,0.15,0.20]\n",
    "min_child_weight=[1,2,3,4]\n",
    "\n",
    "# Define the grid of hyperparameters to search\n",
    "hyperparameter_grid = {\n",
    "    'n_estimators': n_estimators,\n",
    "    'max_depth':max_depth,\n",
    "    'learning_rate':learning_rate,\n",
    "    'min_child_weight':min_child_weight,\n",
    "    'booster':booster,\n",
    "    'base_score':base_score\n",
    "    }"
   ]
  },
  {
   "cell_type": "code",
   "execution_count": 39,
   "id": "d5bb40f0",
   "metadata": {
    "execution": {
     "iopub.execute_input": "2024-01-14T04:41:43.468283Z",
     "iopub.status.busy": "2024-01-14T04:41:43.467953Z",
     "iopub.status.idle": "2024-01-14T04:41:43.883685Z",
     "shell.execute_reply": "2024-01-14T04:41:43.883087Z"
    },
    "papermill": {
     "duration": 0.43066,
     "end_time": "2024-01-14T04:41:43.885549",
     "exception": false,
     "start_time": "2024-01-14T04:41:43.454889",
     "status": "completed"
    },
    "tags": []
   },
   "outputs": [
    {
     "data": {
      "text/html": [
       "<style>#sk-container-id-1 {color: black;background-color: white;}#sk-container-id-1 pre{padding: 0;}#sk-container-id-1 div.sk-toggleable {background-color: white;}#sk-container-id-1 label.sk-toggleable__label {cursor: pointer;display: block;width: 100%;margin-bottom: 0;padding: 0.3em;box-sizing: border-box;text-align: center;}#sk-container-id-1 label.sk-toggleable__label-arrow:before {content: \"▸\";float: left;margin-right: 0.25em;color: #696969;}#sk-container-id-1 label.sk-toggleable__label-arrow:hover:before {color: black;}#sk-container-id-1 div.sk-estimator:hover label.sk-toggleable__label-arrow:before {color: black;}#sk-container-id-1 div.sk-toggleable__content {max-height: 0;max-width: 0;overflow: hidden;text-align: left;background-color: #f0f8ff;}#sk-container-id-1 div.sk-toggleable__content pre {margin: 0.2em;color: black;border-radius: 0.25em;background-color: #f0f8ff;}#sk-container-id-1 input.sk-toggleable__control:checked~div.sk-toggleable__content {max-height: 200px;max-width: 100%;overflow: auto;}#sk-container-id-1 input.sk-toggleable__control:checked~label.sk-toggleable__label-arrow:before {content: \"▾\";}#sk-container-id-1 div.sk-estimator input.sk-toggleable__control:checked~label.sk-toggleable__label {background-color: #d4ebff;}#sk-container-id-1 div.sk-label input.sk-toggleable__control:checked~label.sk-toggleable__label {background-color: #d4ebff;}#sk-container-id-1 input.sk-hidden--visually {border: 0;clip: rect(1px 1px 1px 1px);clip: rect(1px, 1px, 1px, 1px);height: 1px;margin: -1px;overflow: hidden;padding: 0;position: absolute;width: 1px;}#sk-container-id-1 div.sk-estimator {font-family: monospace;background-color: #f0f8ff;border: 1px dotted black;border-radius: 0.25em;box-sizing: border-box;margin-bottom: 0.5em;}#sk-container-id-1 div.sk-estimator:hover {background-color: #d4ebff;}#sk-container-id-1 div.sk-parallel-item::after {content: \"\";width: 100%;border-bottom: 1px solid gray;flex-grow: 1;}#sk-container-id-1 div.sk-label:hover label.sk-toggleable__label {background-color: #d4ebff;}#sk-container-id-1 div.sk-serial::before {content: \"\";position: absolute;border-left: 1px solid gray;box-sizing: border-box;top: 0;bottom: 0;left: 50%;z-index: 0;}#sk-container-id-1 div.sk-serial {display: flex;flex-direction: column;align-items: center;background-color: white;padding-right: 0.2em;padding-left: 0.2em;position: relative;}#sk-container-id-1 div.sk-item {position: relative;z-index: 1;}#sk-container-id-1 div.sk-parallel {display: flex;align-items: stretch;justify-content: center;background-color: white;position: relative;}#sk-container-id-1 div.sk-item::before, #sk-container-id-1 div.sk-parallel-item::before {content: \"\";position: absolute;border-left: 1px solid gray;box-sizing: border-box;top: 0;bottom: 0;left: 50%;z-index: -1;}#sk-container-id-1 div.sk-parallel-item {display: flex;flex-direction: column;z-index: 1;position: relative;background-color: white;}#sk-container-id-1 div.sk-parallel-item:first-child::after {align-self: flex-end;width: 50%;}#sk-container-id-1 div.sk-parallel-item:last-child::after {align-self: flex-start;width: 50%;}#sk-container-id-1 div.sk-parallel-item:only-child::after {width: 0;}#sk-container-id-1 div.sk-dashed-wrapped {border: 1px dashed gray;margin: 0 0.4em 0.5em 0.4em;box-sizing: border-box;padding-bottom: 0.4em;background-color: white;}#sk-container-id-1 div.sk-label label {font-family: monospace;font-weight: bold;display: inline-block;line-height: 1.2em;}#sk-container-id-1 div.sk-label-container {text-align: center;}#sk-container-id-1 div.sk-container {/* jupyter's `normalize.less` sets `[hidden] { display: none; }` but bootstrap.min.css set `[hidden] { display: none !important; }` so we also need the `!important` here to be able to override the default hidden behavior on the sphinx rendered scikit-learn.org. See: https://github.com/scikit-learn/scikit-learn/issues/21755 */display: inline-block !important;position: relative;}#sk-container-id-1 div.sk-text-repr-fallback {display: none;}</style><div id=\"sk-container-id-1\" class=\"sk-top-container\"><div class=\"sk-text-repr-fallback\"><pre>XGBRegressor(base_score=None, booster=None, callbacks=None,\n",
       "             colsample_bylevel=None, colsample_bynode=None,\n",
       "             colsample_bytree=None, device=None, early_stopping_rounds=None,\n",
       "             enable_categorical=False, eval_metric=None, feature_types=None,\n",
       "             gamma=None, grow_policy=None, importance_type=None,\n",
       "             interaction_constraints=None, learning_rate=None, max_bin=None,\n",
       "             max_cat_threshold=None, max_cat_to_onehot=None,\n",
       "             max_delta_step=None, max_depth=None, max_leaves=None,\n",
       "             min_child_weight=None, missing=nan, monotone_constraints=None,\n",
       "             multi_strategy=None, n_estimators=None, n_jobs=None,\n",
       "             num_parallel_tree=None, random_state=None, ...)</pre><b>In a Jupyter environment, please rerun this cell to show the HTML representation or trust the notebook. <br />On GitHub, the HTML representation is unable to render, please try loading this page with nbviewer.org.</b></div><div class=\"sk-container\" hidden><div class=\"sk-item\"><div class=\"sk-estimator sk-toggleable\"><input class=\"sk-toggleable__control sk-hidden--visually\" id=\"sk-estimator-id-1\" type=\"checkbox\" checked><label for=\"sk-estimator-id-1\" class=\"sk-toggleable__label sk-toggleable__label-arrow\">XGBRegressor</label><div class=\"sk-toggleable__content\"><pre>XGBRegressor(base_score=None, booster=None, callbacks=None,\n",
       "             colsample_bylevel=None, colsample_bynode=None,\n",
       "             colsample_bytree=None, device=None, early_stopping_rounds=None,\n",
       "             enable_categorical=False, eval_metric=None, feature_types=None,\n",
       "             gamma=None, grow_policy=None, importance_type=None,\n",
       "             interaction_constraints=None, learning_rate=None, max_bin=None,\n",
       "             max_cat_threshold=None, max_cat_to_onehot=None,\n",
       "             max_delta_step=None, max_depth=None, max_leaves=None,\n",
       "             min_child_weight=None, missing=nan, monotone_constraints=None,\n",
       "             multi_strategy=None, n_estimators=None, n_jobs=None,\n",
       "             num_parallel_tree=None, random_state=None, ...)</pre></div></div></div></div></div>"
      ],
      "text/plain": [
       "XGBRegressor(base_score=None, booster=None, callbacks=None,\n",
       "             colsample_bylevel=None, colsample_bynode=None,\n",
       "             colsample_bytree=None, device=None, early_stopping_rounds=None,\n",
       "             enable_categorical=False, eval_metric=None, feature_types=None,\n",
       "             gamma=None, grow_policy=None, importance_type=None,\n",
       "             interaction_constraints=None, learning_rate=None, max_bin=None,\n",
       "             max_cat_threshold=None, max_cat_to_onehot=None,\n",
       "             max_delta_step=None, max_depth=None, max_leaves=None,\n",
       "             min_child_weight=None, missing=nan, monotone_constraints=None,\n",
       "             multi_strategy=None, n_estimators=None, n_jobs=None,\n",
       "             num_parallel_tree=None, random_state=None, ...)"
      ]
     },
     "execution_count": 39,
     "metadata": {},
     "output_type": "execute_result"
    }
   ],
   "source": [
    "classifier.fit(X_train,y_train)"
   ]
  },
  {
   "cell_type": "code",
   "execution_count": 40,
   "id": "db6a0844",
   "metadata": {
    "execution": {
     "iopub.execute_input": "2024-01-14T04:41:43.912906Z",
     "iopub.status.busy": "2024-01-14T04:41:43.912363Z",
     "iopub.status.idle": "2024-01-14T04:41:43.959452Z",
     "shell.execute_reply": "2024-01-14T04:41:43.958576Z"
    },
    "papermill": {
     "duration": 0.063075,
     "end_time": "2024-01-14T04:41:43.961654",
     "exception": false,
     "start_time": "2024-01-14T04:41:43.898579",
     "status": "completed"
    },
    "tags": []
   },
   "outputs": [],
   "source": [
    "y_pred = classifier.predict(df_Test)"
   ]
  },
  {
   "cell_type": "code",
   "execution_count": 41,
   "id": "7c00eab5",
   "metadata": {
    "execution": {
     "iopub.execute_input": "2024-01-14T04:41:43.988780Z",
     "iopub.status.busy": "2024-01-14T04:41:43.988474Z",
     "iopub.status.idle": "2024-01-14T04:41:43.994007Z",
     "shell.execute_reply": "2024-01-14T04:41:43.993191Z"
    },
    "papermill": {
     "duration": 0.020751,
     "end_time": "2024-01-14T04:41:43.995556",
     "exception": false,
     "start_time": "2024-01-14T04:41:43.974805",
     "status": "completed"
    },
    "tags": []
   },
   "outputs": [
    {
     "data": {
      "text/plain": [
       "array([132603.89 , 194268.19 , 147597.62 , ..., 155982.83 , 114102.125,\n",
       "       214518.52 ], dtype=float32)"
      ]
     },
     "execution_count": 41,
     "metadata": {},
     "output_type": "execute_result"
    }
   ],
   "source": [
    "y_pred"
   ]
  },
  {
   "cell_type": "code",
   "execution_count": 42,
   "id": "649d11f7",
   "metadata": {
    "execution": {
     "iopub.execute_input": "2024-01-14T04:41:44.021960Z",
     "iopub.status.busy": "2024-01-14T04:41:44.021470Z",
     "iopub.status.idle": "2024-01-14T04:41:44.031329Z",
     "shell.execute_reply": "2024-01-14T04:41:44.030775Z"
    },
    "papermill": {
     "duration": 0.024865,
     "end_time": "2024-01-14T04:41:44.032929",
     "exception": false,
     "start_time": "2024-01-14T04:41:44.008064",
     "status": "completed"
    },
    "tags": []
   },
   "outputs": [],
   "source": [
    "pred = pd.DataFrame(y_pred)\n",
    "sub_df = pd.read_csv('/kaggle/input/house-prices-advanced-regression-techniques/sample_submission.csv')"
   ]
  },
  {
   "cell_type": "code",
   "execution_count": 43,
   "id": "e4f9a404",
   "metadata": {
    "execution": {
     "iopub.execute_input": "2024-01-14T04:41:44.060469Z",
     "iopub.status.busy": "2024-01-14T04:41:44.059666Z",
     "iopub.status.idle": "2024-01-14T04:41:44.066377Z",
     "shell.execute_reply": "2024-01-14T04:41:44.065777Z"
    },
    "papermill": {
     "duration": 0.021748,
     "end_time": "2024-01-14T04:41:44.067955",
     "exception": false,
     "start_time": "2024-01-14T04:41:44.046207",
     "status": "completed"
    },
    "tags": []
   },
   "outputs": [
    {
     "data": {
      "text/plain": [
       "0       1461\n",
       "1       1462\n",
       "2       1463\n",
       "3       1464\n",
       "4       1465\n",
       "        ... \n",
       "1454    2915\n",
       "1455    2916\n",
       "1456    2917\n",
       "1457    2918\n",
       "1458    2919\n",
       "Name: Id, Length: 1459, dtype: int64"
      ]
     },
     "execution_count": 43,
     "metadata": {},
     "output_type": "execute_result"
    }
   ],
   "source": [
    "sub_df['Id']"
   ]
  },
  {
   "cell_type": "code",
   "execution_count": 44,
   "id": "c3618bd6",
   "metadata": {
    "execution": {
     "iopub.execute_input": "2024-01-14T04:41:44.094490Z",
     "iopub.status.busy": "2024-01-14T04:41:44.094002Z",
     "iopub.status.idle": "2024-01-14T04:41:44.098860Z",
     "shell.execute_reply": "2024-01-14T04:41:44.098268Z"
    },
    "papermill": {
     "duration": 0.019974,
     "end_time": "2024-01-14T04:41:44.100453",
     "exception": false,
     "start_time": "2024-01-14T04:41:44.080479",
     "status": "completed"
    },
    "tags": []
   },
   "outputs": [],
   "source": [
    "datasets = pd.concat([sub_df['Id'],pred], axis = 1)"
   ]
  },
  {
   "cell_type": "code",
   "execution_count": 45,
   "id": "f2bd2b65",
   "metadata": {
    "execution": {
     "iopub.execute_input": "2024-01-14T04:41:44.127070Z",
     "iopub.status.busy": "2024-01-14T04:41:44.126740Z",
     "iopub.status.idle": "2024-01-14T04:41:44.143271Z",
     "shell.execute_reply": "2024-01-14T04:41:44.142526Z"
    },
    "papermill": {
     "duration": 0.031834,
     "end_time": "2024-01-14T04:41:44.144981",
     "exception": false,
     "start_time": "2024-01-14T04:41:44.113147",
     "status": "completed"
    },
    "tags": []
   },
   "outputs": [],
   "source": [
    "for x in range(1460,1497):\n",
    "    datasets.drop([x], axis = 0, inplace = True)"
   ]
  },
  {
   "cell_type": "code",
   "execution_count": 46,
   "id": "9221e51e",
   "metadata": {
    "execution": {
     "iopub.execute_input": "2024-01-14T04:41:44.171178Z",
     "iopub.status.busy": "2024-01-14T04:41:44.170939Z",
     "iopub.status.idle": "2024-01-14T04:41:44.175090Z",
     "shell.execute_reply": "2024-01-14T04:41:44.174303Z"
    },
    "papermill": {
     "duration": 0.019157,
     "end_time": "2024-01-14T04:41:44.176662",
     "exception": false,
     "start_time": "2024-01-14T04:41:44.157505",
     "status": "completed"
    },
    "tags": []
   },
   "outputs": [],
   "source": [
    "datasets.drop([1459], axis =0, inplace = True)"
   ]
  },
  {
   "cell_type": "code",
   "execution_count": 47,
   "id": "f8e6f3ac",
   "metadata": {
    "execution": {
     "iopub.execute_input": "2024-01-14T04:41:44.203616Z",
     "iopub.status.busy": "2024-01-14T04:41:44.202812Z",
     "iopub.status.idle": "2024-01-14T04:41:44.207208Z",
     "shell.execute_reply": "2024-01-14T04:41:44.206438Z"
    },
    "papermill": {
     "duration": 0.019686,
     "end_time": "2024-01-14T04:41:44.208821",
     "exception": false,
     "start_time": "2024-01-14T04:41:44.189135",
     "status": "completed"
    },
    "tags": []
   },
   "outputs": [],
   "source": [
    "datasets.columns = ['Id','SalePrice']"
   ]
  },
  {
   "cell_type": "code",
   "execution_count": null,
   "id": "562916f2",
   "metadata": {
    "execution": {
     "iopub.execute_input": "2024-01-14T04:24:33.502354Z",
     "iopub.status.busy": "2024-01-14T04:24:33.501911Z",
     "iopub.status.idle": "2024-01-14T04:24:33.516534Z",
     "shell.execute_reply": "2024-01-14T04:24:33.514835Z",
     "shell.execute_reply.started": "2024-01-14T04:24:33.502322Z"
    },
    "papermill": {
     "duration": 0.012168,
     "end_time": "2024-01-14T04:41:44.234208",
     "exception": false,
     "start_time": "2024-01-14T04:41:44.222040",
     "status": "completed"
    },
    "tags": []
   },
   "outputs": [],
   "source": []
  },
  {
   "cell_type": "code",
   "execution_count": 48,
   "id": "3ad4a4b0",
   "metadata": {
    "execution": {
     "iopub.execute_input": "2024-01-14T04:41:44.260247Z",
     "iopub.status.busy": "2024-01-14T04:41:44.259998Z",
     "iopub.status.idle": "2024-01-14T04:41:44.265103Z",
     "shell.execute_reply": "2024-01-14T04:41:44.264088Z"
    },
    "papermill": {
     "duration": 0.020468,
     "end_time": "2024-01-14T04:41:44.267046",
     "exception": false,
     "start_time": "2024-01-14T04:41:44.246578",
     "status": "completed"
    },
    "tags": []
   },
   "outputs": [],
   "source": [
    "datasets['Id'] = datasets['Id'].astype('int32')"
   ]
  },
  {
   "cell_type": "code",
   "execution_count": 49,
   "id": "fd0c3cd7",
   "metadata": {
    "execution": {
     "iopub.execute_input": "2024-01-14T04:41:44.297012Z",
     "iopub.status.busy": "2024-01-14T04:41:44.296142Z",
     "iopub.status.idle": "2024-01-14T04:41:44.306368Z",
     "shell.execute_reply": "2024-01-14T04:41:44.305494Z"
    },
    "papermill": {
     "duration": 0.027092,
     "end_time": "2024-01-14T04:41:44.307853",
     "exception": false,
     "start_time": "2024-01-14T04:41:44.280761",
     "status": "completed"
    },
    "tags": []
   },
   "outputs": [
    {
     "data": {
      "text/html": [
       "<div>\n",
       "<style scoped>\n",
       "    .dataframe tbody tr th:only-of-type {\n",
       "        vertical-align: middle;\n",
       "    }\n",
       "\n",
       "    .dataframe tbody tr th {\n",
       "        vertical-align: top;\n",
       "    }\n",
       "\n",
       "    .dataframe thead th {\n",
       "        text-align: right;\n",
       "    }\n",
       "</style>\n",
       "<table border=\"1\" class=\"dataframe\">\n",
       "  <thead>\n",
       "    <tr style=\"text-align: right;\">\n",
       "      <th></th>\n",
       "      <th>Id</th>\n",
       "      <th>SalePrice</th>\n",
       "    </tr>\n",
       "  </thead>\n",
       "  <tbody>\n",
       "    <tr>\n",
       "      <th>0</th>\n",
       "      <td>1461</td>\n",
       "      <td>132603.890625</td>\n",
       "    </tr>\n",
       "    <tr>\n",
       "      <th>1</th>\n",
       "      <td>1462</td>\n",
       "      <td>194268.187500</td>\n",
       "    </tr>\n",
       "    <tr>\n",
       "      <th>2</th>\n",
       "      <td>1463</td>\n",
       "      <td>147597.625000</td>\n",
       "    </tr>\n",
       "    <tr>\n",
       "      <th>3</th>\n",
       "      <td>1464</td>\n",
       "      <td>144917.937500</td>\n",
       "    </tr>\n",
       "    <tr>\n",
       "      <th>4</th>\n",
       "      <td>1465</td>\n",
       "      <td>262520.468750</td>\n",
       "    </tr>\n",
       "    <tr>\n",
       "      <th>...</th>\n",
       "      <td>...</td>\n",
       "      <td>...</td>\n",
       "    </tr>\n",
       "    <tr>\n",
       "      <th>1454</th>\n",
       "      <td>2915</td>\n",
       "      <td>148047.750000</td>\n",
       "    </tr>\n",
       "    <tr>\n",
       "      <th>1455</th>\n",
       "      <td>2916</td>\n",
       "      <td>177071.687500</td>\n",
       "    </tr>\n",
       "    <tr>\n",
       "      <th>1456</th>\n",
       "      <td>2917</td>\n",
       "      <td>135759.796875</td>\n",
       "    </tr>\n",
       "    <tr>\n",
       "      <th>1457</th>\n",
       "      <td>2918</td>\n",
       "      <td>82720.828125</td>\n",
       "    </tr>\n",
       "    <tr>\n",
       "      <th>1458</th>\n",
       "      <td>2919</td>\n",
       "      <td>129397.218750</td>\n",
       "    </tr>\n",
       "  </tbody>\n",
       "</table>\n",
       "<p>1459 rows × 2 columns</p>\n",
       "</div>"
      ],
      "text/plain": [
       "        Id      SalePrice\n",
       "0     1461  132603.890625\n",
       "1     1462  194268.187500\n",
       "2     1463  147597.625000\n",
       "3     1464  144917.937500\n",
       "4     1465  262520.468750\n",
       "...    ...            ...\n",
       "1454  2915  148047.750000\n",
       "1455  2916  177071.687500\n",
       "1456  2917  135759.796875\n",
       "1457  2918   82720.828125\n",
       "1458  2919  129397.218750\n",
       "\n",
       "[1459 rows x 2 columns]"
      ]
     },
     "execution_count": 49,
     "metadata": {},
     "output_type": "execute_result"
    }
   ],
   "source": [
    "datasets"
   ]
  },
  {
   "cell_type": "code",
   "execution_count": 50,
   "id": "7ecd5066",
   "metadata": {
    "execution": {
     "iopub.execute_input": "2024-01-14T04:41:44.334950Z",
     "iopub.status.busy": "2024-01-14T04:41:44.334257Z",
     "iopub.status.idle": "2024-01-14T04:41:44.343130Z",
     "shell.execute_reply": "2024-01-14T04:41:44.342544Z"
    },
    "papermill": {
     "duration": 0.023833,
     "end_time": "2024-01-14T04:41:44.344624",
     "exception": false,
     "start_time": "2024-01-14T04:41:44.320791",
     "status": "completed"
    },
    "tags": []
   },
   "outputs": [],
   "source": [
    "datasets.to_csv('submission.csv',index = False)"
   ]
  },
  {
   "cell_type": "code",
   "execution_count": 51,
   "id": "4d828e61",
   "metadata": {
    "execution": {
     "iopub.execute_input": "2024-01-14T04:41:44.373583Z",
     "iopub.status.busy": "2024-01-14T04:41:44.372941Z",
     "iopub.status.idle": "2024-01-14T04:41:44.378229Z",
     "shell.execute_reply": "2024-01-14T04:41:44.377685Z"
    },
    "papermill": {
     "duration": 0.020785,
     "end_time": "2024-01-14T04:41:44.379906",
     "exception": false,
     "start_time": "2024-01-14T04:41:44.359121",
     "status": "completed"
    },
    "tags": []
   },
   "outputs": [],
   "source": [
    "abc = pd.read_csv('/kaggle/working/submission.csv')"
   ]
  },
  {
   "cell_type": "code",
   "execution_count": 52,
   "id": "23f3c678",
   "metadata": {
    "execution": {
     "iopub.execute_input": "2024-01-14T04:41:44.406290Z",
     "iopub.status.busy": "2024-01-14T04:41:44.405940Z",
     "iopub.status.idle": "2024-01-14T04:41:44.409404Z",
     "shell.execute_reply": "2024-01-14T04:41:44.408873Z"
    },
    "papermill": {
     "duration": 0.018285,
     "end_time": "2024-01-14T04:41:44.410852",
     "exception": false,
     "start_time": "2024-01-14T04:41:44.392567",
     "status": "completed"
    },
    "tags": []
   },
   "outputs": [],
   "source": [
    "abc['Id'] = abc['Id'].astype('Int32')"
   ]
  },
  {
   "cell_type": "code",
   "execution_count": 53,
   "id": "efe4d633",
   "metadata": {
    "execution": {
     "iopub.execute_input": "2024-01-14T04:41:44.437370Z",
     "iopub.status.busy": "2024-01-14T04:41:44.436970Z",
     "iopub.status.idle": "2024-01-14T04:41:44.445041Z",
     "shell.execute_reply": "2024-01-14T04:41:44.444007Z"
    },
    "papermill": {
     "duration": 0.023224,
     "end_time": "2024-01-14T04:41:44.446710",
     "exception": false,
     "start_time": "2024-01-14T04:41:44.423486",
     "status": "completed"
    },
    "tags": []
   },
   "outputs": [
    {
     "data": {
      "text/html": [
       "<div>\n",
       "<style scoped>\n",
       "    .dataframe tbody tr th:only-of-type {\n",
       "        vertical-align: middle;\n",
       "    }\n",
       "\n",
       "    .dataframe tbody tr th {\n",
       "        vertical-align: top;\n",
       "    }\n",
       "\n",
       "    .dataframe thead th {\n",
       "        text-align: right;\n",
       "    }\n",
       "</style>\n",
       "<table border=\"1\" class=\"dataframe\">\n",
       "  <thead>\n",
       "    <tr style=\"text-align: right;\">\n",
       "      <th></th>\n",
       "      <th>Id</th>\n",
       "      <th>SalePrice</th>\n",
       "    </tr>\n",
       "  </thead>\n",
       "  <tbody>\n",
       "    <tr>\n",
       "      <th>0</th>\n",
       "      <td>1461</td>\n",
       "      <td>132603.89</td>\n",
       "    </tr>\n",
       "    <tr>\n",
       "      <th>1</th>\n",
       "      <td>1462</td>\n",
       "      <td>194268.19</td>\n",
       "    </tr>\n",
       "    <tr>\n",
       "      <th>2</th>\n",
       "      <td>1463</td>\n",
       "      <td>147597.62</td>\n",
       "    </tr>\n",
       "    <tr>\n",
       "      <th>3</th>\n",
       "      <td>1464</td>\n",
       "      <td>144917.94</td>\n",
       "    </tr>\n",
       "    <tr>\n",
       "      <th>4</th>\n",
       "      <td>1465</td>\n",
       "      <td>262520.47</td>\n",
       "    </tr>\n",
       "  </tbody>\n",
       "</table>\n",
       "</div>"
      ],
      "text/plain": [
       "     Id  SalePrice\n",
       "0  1461  132603.89\n",
       "1  1462  194268.19\n",
       "2  1463  147597.62\n",
       "3  1464  144917.94\n",
       "4  1465  262520.47"
      ]
     },
     "execution_count": 53,
     "metadata": {},
     "output_type": "execute_result"
    }
   ],
   "source": [
    "abc.head()"
   ]
  },
  {
   "cell_type": "code",
   "execution_count": 54,
   "id": "b78f2b28",
   "metadata": {
    "execution": {
     "iopub.execute_input": "2024-01-14T04:41:44.473495Z",
     "iopub.status.busy": "2024-01-14T04:41:44.473228Z",
     "iopub.status.idle": "2024-01-14T04:41:44.479830Z",
     "shell.execute_reply": "2024-01-14T04:41:44.479048Z"
    },
    "papermill": {
     "duration": 0.021937,
     "end_time": "2024-01-14T04:41:44.481408",
     "exception": false,
     "start_time": "2024-01-14T04:41:44.459471",
     "status": "completed"
    },
    "tags": []
   },
   "outputs": [],
   "source": [
    "abc.to_csv('submission3.csv', index=False)"
   ]
  },
  {
   "cell_type": "code",
   "execution_count": null,
   "id": "713330f0",
   "metadata": {
    "papermill": {
     "duration": 0.012504,
     "end_time": "2024-01-14T04:41:44.506636",
     "exception": false,
     "start_time": "2024-01-14T04:41:44.494132",
     "status": "completed"
    },
    "tags": []
   },
   "outputs": [],
   "source": []
  }
 ],
 "metadata": {
  "kaggle": {
   "accelerator": "none",
   "dataSources": [
    {
     "databundleVersionId": 868283,
     "sourceId": 5407,
     "sourceType": "competition"
    },
    {
     "datasetId": 4301600,
     "sourceId": 7398210,
     "sourceType": "datasetVersion"
    }
   ],
   "dockerImageVersionId": 30635,
   "isGpuEnabled": false,
   "isInternetEnabled": true,
   "language": "python",
   "sourceType": "notebook"
  },
  "kernelspec": {
   "display_name": "Python 3",
   "language": "python",
   "name": "python3"
  },
  "language_info": {
   "codemirror_mode": {
    "name": "ipython",
    "version": 3
   },
   "file_extension": ".py",
   "mimetype": "text/x-python",
   "name": "python",
   "nbconvert_exporter": "python",
   "pygments_lexer": "ipython3",
   "version": "3.10.12"
  },
  "papermill": {
   "default_parameters": {},
   "duration": 6.900117,
   "end_time": "2024-01-14T04:41:44.937120",
   "environment_variables": {},
   "exception": null,
   "input_path": "__notebook__.ipynb",
   "output_path": "__notebook__.ipynb",
   "parameters": {},
   "start_time": "2024-01-14T04:41:38.037003",
   "version": "2.4.0"
  }
 },
 "nbformat": 4,
 "nbformat_minor": 5
}
